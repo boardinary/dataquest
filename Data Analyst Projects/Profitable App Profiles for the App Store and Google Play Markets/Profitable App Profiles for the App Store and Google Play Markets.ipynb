{
 "cells": [
  {
   "cell_type": "markdown",
   "metadata": {},
   "source": [
    "# Profitable App Profiles for the App Store and Google Play Markets\n",
    "## Introduction\n",
    "\n",
    "This project will explore data in the app and play store markets to help decide what kind of new app should be developed."
   ]
  },
  {
   "cell_type": "code",
   "execution_count": 1,
   "metadata": {},
   "outputs": [],
   "source": [
    "def explore_data(dataset, start, end, rows_and_columns=False):\n",
    "    dataset_slice = dataset[start:end]    \n",
    "    for row in dataset_slice:\n",
    "        print(row)\n",
    "        print('\\n') # adds a new (empty) line after each row\n",
    "\n",
    "    if rows_and_columns:\n",
    "        print('Number of rows:', len(dataset))\n",
    "        print('Number of columns:', len(dataset[0]))"
   ]
  },
  {
   "cell_type": "markdown",
   "metadata": {},
   "source": [
    "We are using data from the following two sources:  \n",
    "[App Store](https://www.kaggle.com/ramamet4/app-store-apple-data-set-10k-apps)  \n",
    "[Play Store](https://www.kaggle.com/lava18/google-play-store-apps)\n",
    "\n",
    "The following code opens and stores the datasets as lists of lists:"
   ]
  },
  {
   "cell_type": "code",
   "execution_count": 2,
   "metadata": {},
   "outputs": [
    {
     "name": "stdout",
     "output_type": "stream",
     "text": [
      "Play Store Header\n",
      "['App', 'Category', 'Rating', 'Reviews', 'Size', 'Installs', 'Type', 'Price', 'Content Rating', 'Genres', 'Last Updated', 'Current Ver', 'Android Ver']\n",
      "\n",
      "App Store Header\n",
      "['id', 'track_name', 'size_bytes', 'currency', 'price', 'rating_count_tot', 'rating_count_ver', 'user_rating', 'user_rating_ver', 'ver', 'cont_rating', 'prime_genre', 'sup_devices.num', 'ipadSc_urls.num', 'lang.num', 'vpp_lic']\n"
     ]
    }
   ],
   "source": [
    "from csv import reader\n",
    "\n",
    "playStoreFile = open('googleplaystore.csv')\n",
    "appStoreFile = open('AppleStore.csv')\n",
    "playStoreReadFile = reader(playStoreFile)\n",
    "appStoreReadFile = reader(appStoreFile)\n",
    "playStoreList = list(playStoreReadFile)\n",
    "appStoreList = list(appStoreReadFile)\n",
    "\n",
    "# Cleaning row with missing data per discussion\n",
    "del(playStoreList[10473])\n",
    "\n",
    "# Print header rows\n",
    "print(\"Play Store Header\")\n",
    "print(playStoreList[0])\n",
    "print('\\n' + 'App Store Header')\n",
    "print(appStoreList[0])\n",
    "\n",
    "#print(playStoreList[10473])"
   ]
  },
  {
   "cell_type": "markdown",
   "metadata": {},
   "source": [
    "There are duplicate entries in the dataset for the play store. Here is an example of Instagram having 4 duplicate entries in the play store dataset."
   ]
  },
  {
   "cell_type": "code",
   "execution_count": 3,
   "metadata": {},
   "outputs": [
    {
     "name": "stdout",
     "output_type": "stream",
     "text": [
      "['Instagram', 'SOCIAL', '4.5', '66577313', 'Varies with device', '1,000,000,000+', 'Free', '0', 'Teen', 'Social', 'July 31, 2018', 'Varies with device', 'Varies with device']\n",
      "['Instagram', 'SOCIAL', '4.5', '66577446', 'Varies with device', '1,000,000,000+', 'Free', '0', 'Teen', 'Social', 'July 31, 2018', 'Varies with device', 'Varies with device']\n",
      "['Instagram', 'SOCIAL', '4.5', '66577313', 'Varies with device', '1,000,000,000+', 'Free', '0', 'Teen', 'Social', 'July 31, 2018', 'Varies with device', 'Varies with device']\n",
      "['Instagram', 'SOCIAL', '4.5', '66509917', 'Varies with device', '1,000,000,000+', 'Free', '0', 'Teen', 'Social', 'July 31, 2018', 'Varies with device', 'Varies with device']\n"
     ]
    }
   ],
   "source": [
    "for app in playStoreList:\n",
    "    name = app[0]\n",
    "    if name == \"Instagram\":\n",
    "        print(app)\n"
   ]
  },
  {
   "cell_type": "markdown",
   "metadata": {},
   "source": [
    "## Counting duplicates\n",
    "\n",
    "We can count the number of duplicates with the following code:"
   ]
  },
  {
   "cell_type": "code",
   "execution_count": 4,
   "metadata": {},
   "outputs": [
    {
     "name": "stdout",
     "output_type": "stream",
     "text": [
      "1181\n",
      "9659\n"
     ]
    }
   ],
   "source": [
    "duplicatePlayStoreApps = []\n",
    "uniquePlayStoreApps = []\n",
    "for app in playStoreList[1:]:\n",
    "    if app[0] in uniquePlayStoreApps:\n",
    "        duplicatePlayStoreApps.append(app[0])\n",
    "    else:\n",
    "        uniquePlayStoreApps.append(app[0])\n",
    "\n",
    "print(len(duplicatePlayStoreApps))\n",
    "print(len(uniquePlayStoreApps))\n",
    "        \n",
    "    "
   ]
  },
  {
   "cell_type": "markdown",
   "metadata": {},
   "source": [
    "## Removing duplicate apps\n",
    "\n",
    "We will remove the duplicates that have the least number of reviews because these correspond to older entries in the dataset. We do this by creating a dictionary and comparing the review values of the playStoreList to the newly created entries in the dictionary.\n",
    "\n",
    "We then convert the values of the dictionary into a new list. Note the length of the new list matches the length of the uniquePlayStoreApps list above."
   ]
  },
  {
   "cell_type": "code",
   "execution_count": 5,
   "metadata": {},
   "outputs": [
    {
     "name": "stdout",
     "output_type": "stream",
     "text": [
      "9659\n"
     ]
    }
   ],
   "source": [
    "playStoreDict = {}\n",
    "for app in playStoreList[1:]:\n",
    "    if app[0] in playStoreDict:\n",
    "        if app[3] > playStoreDict[app[0]][3]:\n",
    "            playStoreDict[app[0]] = app\n",
    "    else:\n",
    "        playStoreDict[app[0]] = app\n",
    "\n",
    "cleanPlayStoreList = list(playStoreDict.values())\n",
    "print(len(cleanPlayStoreList))"
   ]
  },
  {
   "cell_type": "markdown",
   "metadata": {},
   "source": [
    "## Removing non English apps\n",
    "In the app store dataset there are names of apps that contain Chinese characters. We would like to only analyze data for apps in the english language. To do this we will remove app names with ascii characters greater than 127. To do this, we will first write a function that can take a string as an input and return `True` or `False` if it contains ascii characters outside our target range.\n",
    "\n",
    "Some english apps have names with emoji characters that fall outside the range of 0 - 127. We will filter names that have more than three characters outside the range as non english apps."
   ]
  },
  {
   "cell_type": "code",
   "execution_count": 6,
   "metadata": {},
   "outputs": [
    {
     "name": "stdout",
     "output_type": "stream",
     "text": [
      "False\n",
      "True\n"
     ]
    }
   ],
   "source": [
    "def IsEnglish(string):\n",
    "    charCount = 0\n",
    "    for character in string:\n",
    "        if ord(character) > 127:\n",
    "            charCount += 1\n",
    "    if charCount > 3:\n",
    "        return False\n",
    "    return True\n",
    "\n",
    "print(IsEnglish(\"爱奇艺PPS -《欢乐颂2》电视剧热播\"))\n",
    "print(IsEnglish('Instachat 😜'))"
   ]
  },
  {
   "cell_type": "markdown",
   "metadata": {},
   "source": [
    "We will now remove apps that have non English names from the datasets."
   ]
  },
  {
   "cell_type": "code",
   "execution_count": 7,
   "metadata": {},
   "outputs": [
    {
     "name": "stdout",
     "output_type": "stream",
     "text": [
      "9614\n",
      "6183\n"
     ]
    }
   ],
   "source": [
    "cleanAppStoreList = []\n",
    "for app in appStoreList[1:]:\n",
    "    if IsEnglish(app[1]):\n",
    "        cleanAppStoreList.append(app)\n",
    "\n",
    "englishPlayStoreList = []\n",
    "for app in cleanPlayStoreList:\n",
    "    if IsEnglish(app[0]):\n",
    "        englishPlayStoreList.append(app)\n",
    "        \n",
    "print(len(englishPlayStoreList))\n",
    "print(len(cleanAppStoreList))"
   ]
  },
  {
   "cell_type": "markdown",
   "metadata": {},
   "source": [
    "## Removing nonfree apps\n",
    "\n",
    "We will now take the data sets that are free from duplicates and non english apps and remove the non-free apps."
   ]
  },
  {
   "cell_type": "code",
   "execution_count": 8,
   "metadata": {},
   "outputs": [
    {
     "name": "stdout",
     "output_type": "stream",
     "text": [
      "8862\n",
      "3222\n"
     ]
    }
   ],
   "source": [
    "freeCleanPlayStoreList = []\n",
    "paidCleanPlayStoreList = []\n",
    "for app in englishPlayStoreList:\n",
    "    if app[7] == '0':\n",
    "        freeCleanPlayStoreList.append(app)\n",
    "    else:\n",
    "        paidCleanPlayStoreList.append(app)\n",
    "\n",
    "freeCleanAppStoreList = []\n",
    "paidCleanAppStoreList = []\n",
    "for app in cleanAppStoreList:\n",
    "    if app[4] == '0.0':\n",
    "        freeCleanAppStoreList.append(app)\n",
    "    else:\n",
    "        paidCleanAppStoreList.append(app)\n",
    "\n",
    "print(len(freeCleanPlayStoreList))\n",
    "print(len(freeCleanAppStoreList))\n"
   ]
  },
  {
   "cell_type": "markdown",
   "metadata": {},
   "source": [
    "## Exploring app genres\n",
    "\n",
    "Our end goal is to develop an ad supported free app that will be successful on both the play and app store. To do this, let's expore what genre's are popular on the markets by generating a frequency table of genres.\n",
    "\n",
    "First we need functions to generate and sort frequency tables from our datasets. The following function creates a frequency table from a list of lists"
   ]
  },
  {
   "cell_type": "code",
   "execution_count": 9,
   "metadata": {},
   "outputs": [],
   "source": [
    "def freq_table(dataset, index):\n",
    "    freq_table = {}\n",
    "    datasetLength = len(dataset)\n",
    "    for row in dataset:\n",
    "        if row[index] in freq_table:\n",
    "            freq_table[row[index]] += (100 / datasetLength)\n",
    "        else:\n",
    "            freq_table[row[index]] = 100 / datasetLength\n",
    "\n",
    "    return freq_table\n",
    "    "
   ]
  },
  {
   "cell_type": "markdown",
   "metadata": {},
   "source": [
    "The following function sorts the frequency table generate by `freq_table()`."
   ]
  },
  {
   "cell_type": "code",
   "execution_count": 14,
   "metadata": {},
   "outputs": [],
   "source": [
    "def display_table(dataset, index):\n",
    "    table = freq_table(dataset, index)\n",
    "    table_display = []\n",
    "    for key in table:\n",
    "        key_val_as_tuple = (table[key], key)\n",
    "        table_display.append(key_val_as_tuple)\n",
    "\n",
    "    table_sorted = sorted(table_display, reverse = True)\n",
    "    for entry in table_sorted:\n",
    "        print(entry[1], ':', entry[0])"
   ]
  },
  {
   "cell_type": "markdown",
   "metadata": {},
   "source": [
    "## Generated Freq tables for Genre and Categories\n",
    "\n",
    "The play store has tags for both genre and category while the app store has a single genre category. From the app store, games and entertainment dominate showing a bias towards apps for fun. The play store is a bit more diverse with significant representation from both fun and productivty themed apps."
   ]
  },
  {
   "cell_type": "code",
   "execution_count": 13,
   "metadata": {},
   "outputs": [
    {
     "name": "stdout",
     "output_type": "stream",
     "text": [
      "Play Store Categories\n",
      "FAMILY : 18.9347777025507\n",
      "GAME : 9.69307154141295\n",
      "TOOLS : 8.451816745655742\n",
      "BUSINESS : 4.592642744301517\n",
      "LIFESTYLE : 3.904310539381615\n",
      "PRODUCTIVITY : 3.893026404874732\n",
      "FINANCE : 3.7011961182577164\n",
      "MEDICAL : 3.5206499661475843\n",
      "SPORTS : 3.3965244865718685\n",
      "PERSONALIZATION : 3.3175355450236856\n",
      "COMMUNICATION : 3.238546603475503\n",
      "HEALTH_AND_FITNESS : 3.080568720379137\n",
      "PHOTOGRAPHY : 2.945159106296538\n",
      "NEWS_AND_MAGAZINES : 2.7984653577070557\n",
      "SOCIAL : 2.6630557436244566\n",
      "TRAVEL_AND_LOCAL : 2.335815842924842\n",
      "SHOPPING : 2.245542766869776\n",
      "BOOKS_AND_REFERENCE : 2.1439855563078267\n",
      "DATING : 1.861882193635745\n",
      "VIDEO_PLAYERS : 1.7941773865944455\n",
      "MAPS_AND_NAVIGATION : 1.3992326788535314\n",
      "FOOD_AND_DRINK : 1.2412547957571658\n",
      "EDUCATION : 1.1735499887158662\n",
      "ENTERTAINMENT : 0.959151433085084\n",
      "LIBRARIES_AND_DEMO : 0.9365831640713173\n",
      "AUTO_AND_VEHICLES : 0.9252990295644339\n",
      "HOUSE_AND_HOME : 0.8237418190024836\n",
      "WEATHER : 0.8011735499887168\n",
      "EVENTS : 0.7109004739336499\n",
      "PARENTING : 0.654479801399233\n",
      "ART_AND_DESIGN : 0.6431956668923496\n",
      "COMICS : 0.6206273978785829\n",
      "BEAUTY : 0.5980591288648162\n",
      "\n",
      " Play Store Genres\n",
      "Tools : 8.440532611148859\n",
      "Entertainment : 6.070864364703282\n",
      "Education : 5.348679756262725\n",
      "Business : 4.592642744301517\n",
      "Productivity : 3.893026404874732\n",
      "Lifestyle : 3.893026404874732\n",
      "Finance : 3.7011961182577164\n",
      "Medical : 3.5206499661475843\n",
      "Sports : 3.464229293613168\n",
      "Personalization : 3.3175355450236856\n",
      "Communication : 3.238546603475503\n",
      "Action : 3.1031369893929037\n",
      "Health & Fitness : 3.080568720379137\n",
      "Photography : 2.945159106296538\n",
      "News & Magazines : 2.7984653577070557\n",
      "Social : 2.6630557436244566\n",
      "Travel & Local : 2.324531708417959\n",
      "Shopping : 2.245542766869776\n",
      "Books & Reference : 2.1439855563078267\n",
      "Simulation : 2.0424283457458774\n",
      "Dating : 1.861882193635745\n",
      "Arcade : 1.8505980591288618\n",
      "Video Players & Editors : 1.771609117580679\n",
      "Casual : 1.7490408485669124\n",
      "Maps & Navigation : 1.3992326788535314\n",
      "Food & Drink : 1.2412547957571658\n",
      "Puzzle : 1.1284134506883332\n",
      "Racing : 0.9930038366057341\n",
      "Role Playing : 0.9365831640713173\n",
      "Libraries & Demo : 0.9365831640713173\n",
      "Auto & Vehicles : 0.9252990295644339\n",
      "Strategy : 0.9140148950575505\n",
      "House & Home : 0.8237418190024836\n",
      "Weather : 0.8011735499887168\n",
      "Events : 0.7109004739336499\n",
      "Adventure : 0.6770480704129997\n",
      "Comics : 0.6093432633716995\n",
      "Beauty : 0.5980591288648162\n",
      "Art & Design : 0.5980591288648162\n",
      "Parenting : 0.4965019183028659\n",
      "Card : 0.4400812457684493\n",
      "Casino : 0.428797111261566\n",
      "Trivia : 0.4175129767546827\n",
      "Educational;Education : 0.39494470774091606\n",
      "Educational : 0.37237643872714943\n",
      "Board : 0.37237643872714943\n",
      "Education;Education : 0.3385240352064995\n",
      "Word : 0.2595350936583163\n",
      "Casual;Pretend Play : 0.23696682464454966\n",
      "Music : 0.2031144211238997\n",
      "Puzzle;Brain Games : 0.18054615211013308\n",
      "Racing;Action & Adventure : 0.16926201760324977\n",
      "Entertainment;Music & Video : 0.16926201760324977\n",
      "Casual;Brain Games : 0.13540961408259983\n",
      "Casual;Action & Adventure : 0.13540961408259983\n",
      "Arcade;Action & Adventure : 0.12412547957571651\n",
      "Action;Action & Adventure : 0.10155721056194988\n",
      "Educational;Pretend Play : 0.09027307605506657\n",
      "Board;Brain Games : 0.09027307605506657\n",
      "Simulation;Action & Adventure : 0.07898894154818326\n",
      "Parenting;Education : 0.07898894154818326\n",
      "Entertainment;Brain Games : 0.07898894154818326\n",
      "Parenting;Music & Video : 0.06770480704129993\n",
      "Educational;Brain Games : 0.06770480704129993\n",
      "Casual;Creativity : 0.06770480704129993\n",
      "Art & Design;Creativity : 0.06770480704129993\n",
      "Education;Pretend Play : 0.056420672534416606\n",
      "Role Playing;Pretend Play : 0.045136538027533285\n",
      "Education;Creativity : 0.045136538027533285\n",
      "Role Playing;Action & Adventure : 0.033852403520649964\n",
      "Puzzle;Action & Adventure : 0.033852403520649964\n",
      "Entertainment;Creativity : 0.033852403520649964\n",
      "Entertainment;Action & Adventure : 0.033852403520649964\n",
      "Educational;Creativity : 0.033852403520649964\n",
      "Educational;Action & Adventure : 0.033852403520649964\n",
      "Education;Music & Video : 0.033852403520649964\n",
      "Education;Brain Games : 0.033852403520649964\n",
      "Education;Action & Adventure : 0.033852403520649964\n",
      "Adventure;Action & Adventure : 0.033852403520649964\n",
      "Video Players & Editors;Music & Video : 0.022568269013766643\n",
      "Sports;Action & Adventure : 0.022568269013766643\n",
      "Simulation;Pretend Play : 0.022568269013766643\n",
      "Puzzle;Creativity : 0.022568269013766643\n",
      "Music;Music & Video : 0.022568269013766643\n",
      "Entertainment;Pretend Play : 0.022568269013766643\n",
      "Casual;Education : 0.022568269013766643\n",
      "Board;Action & Adventure : 0.022568269013766643\n",
      "Video Players & Editors;Creativity : 0.011284134506883321\n",
      "Trivia;Education : 0.011284134506883321\n",
      "Travel & Local;Action & Adventure : 0.011284134506883321\n",
      "Tools;Education : 0.011284134506883321\n",
      "Strategy;Education : 0.011284134506883321\n",
      "Strategy;Creativity : 0.011284134506883321\n",
      "Strategy;Action & Adventure : 0.011284134506883321\n",
      "Simulation;Education : 0.011284134506883321\n",
      "Role Playing;Brain Games : 0.011284134506883321\n",
      "Racing;Pretend Play : 0.011284134506883321\n",
      "Puzzle;Education : 0.011284134506883321\n",
      "Parenting;Brain Games : 0.011284134506883321\n",
      "Music & Audio;Music & Video : 0.011284134506883321\n",
      "Lifestyle;Pretend Play : 0.011284134506883321\n",
      "Lifestyle;Education : 0.011284134506883321\n",
      "Health & Fitness;Education : 0.011284134506883321\n",
      "Health & Fitness;Action & Adventure : 0.011284134506883321\n",
      "Entertainment;Education : 0.011284134506883321\n",
      "Communication;Creativity : 0.011284134506883321\n",
      "Comics;Creativity : 0.011284134506883321\n",
      "Casual;Music & Video : 0.011284134506883321\n",
      "Card;Brain Games : 0.011284134506883321\n",
      "Card;Action & Adventure : 0.011284134506883321\n",
      "Books & Reference;Education : 0.011284134506883321\n",
      "Art & Design;Pretend Play : 0.011284134506883321\n",
      "Art & Design;Action & Adventure : 0.011284134506883321\n",
      "Arcade;Pretend Play : 0.011284134506883321\n",
      "Adventure;Education : 0.011284134506883321\n",
      "\n",
      " App Store prime_genre\n",
      "Games : 58.1626319056464\n",
      "Entertainment : 7.883302296710134\n",
      "Photo & Video : 4.965859714463075\n",
      "Education : 3.6623215394165176\n",
      "Social Networking : 3.2898820608317867\n",
      "Shopping : 2.6070763500931133\n",
      "Utilities : 2.5139664804469306\n",
      "Sports : 2.1415270018621997\n",
      "Music : 2.048417132216017\n",
      "Health & Fitness : 2.0173805090006227\n",
      "Productivity : 1.7380509000620747\n",
      "Lifestyle : 1.5828677839851035\n",
      "News : 1.3345747982619496\n",
      "Travel : 1.2414649286157668\n",
      "Finance : 1.1173184357541899\n",
      "Weather : 0.8690254500310364\n",
      "Food & Drink : 0.8069522036002481\n",
      "Reference : 0.558659217877095\n",
      "Business : 0.5276225946617009\n",
      "Book : 0.4345127250155184\n",
      "Navigation : 0.186219739292365\n",
      "Medical : 0.186219739292365\n",
      "Catalogs : 0.12414649286157665\n"
     ]
    }
   ],
   "source": [
    "print('Play Store Categories')\n",
    "display_table(freeCleanPlayStoreList, 1)\n",
    "print('\\n Play Store Genres')\n",
    "display_table(freeCleanPlayStoreList, 9)\n",
    "print('\\n App Store prime_genre')\n",
    "display_table(freeCleanAppStoreList, 11)"
   ]
  },
  {
   "cell_type": "markdown",
   "metadata": {},
   "source": [
    "## Popular Apps on the App Store  \n",
    "We would like to know the average number of users per app genre. The app store data is missing data for number of downloads, so number of reviews will be used instead as a proxy."
   ]
  },
  {
   "cell_type": "code",
   "execution_count": 20,
   "metadata": {},
   "outputs": [
    {
     "name": "stdout",
     "output_type": "stream",
     "text": [
      "Social Networking, 71548\n",
      "Photo & Video, 28442\n",
      "Games, 22789\n",
      "Music, 57327\n",
      "Reference, 74942\n",
      "Health & Fitness, 23298\n",
      "Weather, 52280\n",
      "Utilities, 18684\n",
      "Travel, 28244\n",
      "Shopping, 26920\n",
      "News, 21248\n",
      "Navigation, 86090\n",
      "Lifestyle, 16486\n",
      "Entertainment, 14030\n",
      "Food & Drink, 33334\n",
      "Sports, 23009\n",
      "Book, 39758\n",
      "Finance, 31468\n",
      "Education, 7004\n",
      "Productivity, 21028\n",
      "Business, 7491\n",
      "Catalogs, 4004\n",
      "Medical, 612\n"
     ]
    }
   ],
   "source": [
    "prime_genreFreqTable = freq_table(freeCleanAppStoreList, 11)\n",
    "for genre in prime_genreFreqTable:\n",
    "    totalRatings = 0\n",
    "    totalApps = 0\n",
    "    for app in freeCleanAppStoreList:\n",
    "        if app[11] == genre:\n",
    "            totalRatings += int(app[5])\n",
    "            totalApps += 1\n",
    "    avg = round(totalRatings / totalApps)\n",
    "    print(genre + \", \" + str(avg))"
   ]
  },
  {
   "cell_type": "markdown",
   "metadata": {},
   "source": [
    "## App Store Takeaways\n",
    "Social Networking apps have the highest number of reviews. However, a successful social networking app is highly dependent on userbase. Because of this, it may make more sense to target another genre for a new app. Reference apps have a high review count per app but relatively low number of apps. This may be a good area to target for a new app."
   ]
  },
  {
   "cell_type": "markdown",
   "metadata": {},
   "source": [
    "## Popular Apps on the Play Store\n",
    "\n",
    "The play store dataset does have number of installs, but they are grouped range and not a precise number (See below). Because of this, we will need to remove characters like ',' and '+' to compare the ranges numerically."
   ]
  },
  {
   "cell_type": "code",
   "execution_count": 21,
   "metadata": {},
   "outputs": [
    {
     "name": "stdout",
     "output_type": "stream",
     "text": [
      "1,000,000+ : 15.741367637102615\n",
      "100,000+ : 11.55495373504876\n",
      "10,000,000+ : 10.51681336041546\n",
      "10,000+ : 10.200857594222716\n",
      "1,000+ : 8.395396073121324\n",
      "100+ : 6.91717445271956\n",
      "5,000,000+ : 6.838185511171374\n",
      "500,000+ : 5.574362446400399\n",
      "50,000+ : 4.773188896411656\n",
      "5,000+ : 4.513653802753331\n",
      "10+ : 3.543218235161351\n",
      "500+ : 3.249830737982386\n",
      "50,000,000+ : 2.290679304897309\n",
      "100,000,000+ : 2.12141728729406\n",
      "50+ : 1.9183028661701613\n",
      "5+ : 0.7898894154818334\n",
      "1+ : 0.5077860528097492\n",
      "500,000,000+ : 0.2708192281651996\n",
      "1,000,000,000+ : 0.22568269013766634\n",
      "0+ : 0.045136538027533285\n",
      "0 : 0.011284134506883321\n"
     ]
    }
   ],
   "source": [
    "display_table(freeCleanPlayStoreList, 5)"
   ]
  },
  {
   "cell_type": "code",
   "execution_count": 32,
   "metadata": {},
   "outputs": [
    {
     "name": "stdout",
     "output_type": "stream",
     "text": [
      "ART_AND_DESIGN, 1986335\n",
      "FAMILY, 3694276\n",
      "AUTO_AND_VEHICLES, 647318\n",
      "BEAUTY, 513152\n",
      "BOOKS_AND_REFERENCE, 8767812\n",
      "BUSINESS, 1712290\n",
      "COMICS, 817657\n",
      "COMMUNICATION, 38456119\n",
      "DATING, 854029\n",
      "EDUCATION, 1820673\n",
      "ENTERTAINMENT, 11640706\n",
      "EVENTS, 253542\n",
      "FINANCE, 1387692\n",
      "FOOD_AND_DRINK, 1924898\n",
      "HEALTH_AND_FITNESS, 4188822\n",
      "HOUSE_AND_HOME, 1331541\n",
      "TOOLS, 10682301\n",
      "LIBRARIES_AND_DEMO, 638504\n",
      "LIFESTYLE, 1437816\n",
      "GAME, 15560966\n",
      "VIDEO_PLAYERS, 24727872\n",
      "MEDICAL, 120616\n",
      "SOCIAL, 23253652\n",
      "SHOPPING, 7036877\n",
      "PHOTOGRAPHY, 17805628\n",
      "SPORTS, 3638640\n",
      "TRAVEL_AND_LOCAL, 13984078\n",
      "PERSONALIZATION, 5201483\n",
      "PRODUCTIVITY, 16787331\n",
      "PARENTING, 542604\n",
      "WEATHER, 5074486\n",
      "NEWS_AND_MAGAZINES, 9549178\n",
      "MAPS_AND_NAVIGATION, 4056942\n"
     ]
    }
   ],
   "source": [
    "categoryFreqTable = freq_table(freeCleanPlayStoreList, 1)\n",
    "installFreqTable = {}\n",
    "\n",
    "for cat in categoryFreqTable:\n",
    "    totalInstalls = 0\n",
    "    totalApps = 0\n",
    "    for app in freeCleanPlayStoreList:\n",
    "        if cat == app[1]:\n",
    "            installs = app[5].replace('+', '').replace(',', '') # remove , and + from string\n",
    "            totalInstalls += int(installs)\n",
    "            totalApps += 1\n",
    "    avg = round(totalInstalls / totalApps)\n",
    "    print(cat + ', ' + str(avg))\n",
    "            "
   ]
  },
  {
   "cell_type": "markdown",
   "metadata": {},
   "source": [
    "From this list we can see that navigation dominates but is skewed by a few popular apps. Need more skills to analyze data more efficiently to draw deeper conclusions."
   ]
  }
 ],
 "metadata": {
  "kernelspec": {
   "display_name": "Python 3",
   "language": "python",
   "name": "python3"
  },
  "language_info": {
   "codemirror_mode": {
    "name": "ipython",
    "version": 3
   },
   "file_extension": ".py",
   "mimetype": "text/x-python",
   "name": "python",
   "nbconvert_exporter": "python",
   "pygments_lexer": "ipython3",
   "version": "3.8.3"
  }
 },
 "nbformat": 4,
 "nbformat_minor": 4
}
